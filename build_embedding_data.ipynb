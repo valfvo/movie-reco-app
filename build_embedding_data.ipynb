{
 "cells": [
  {
   "cell_type": "code",
   "execution_count": 1,
   "metadata": {},
   "outputs": [],
   "source": [
    "import gc\n",
    "\n",
    "import joblib\n",
    "import numpy as np\n",
    "import pandas as pd\n",
    "import safetensors\n",
    "import torch\n",
    "\n",
    "from service_embedder import MobileNetWrapper, CountVectorizerWrapper, BertWrapper\n",
    "from service_embedder import image_data_to_tensor"
   ]
  },
  {
   "cell_type": "code",
   "execution_count": 2,
   "metadata": {},
   "outputs": [],
   "source": [
    "ASSETS_DIR = '../assets'"
   ]
  },
  {
   "cell_type": "code",
   "execution_count": 3,
   "metadata": {},
   "outputs": [],
   "source": [
    "df = pd.read_pickle(f'{ASSETS_DIR}/movies.pkl.zst', compression='zstd')"
   ]
  },
  {
   "cell_type": "markdown",
   "metadata": {},
   "source": [
    "## MobileNet"
   ]
  },
  {
   "cell_type": "code",
   "execution_count": 4,
   "metadata": {},
   "outputs": [],
   "source": [
    "mobilenet = MobileNetWrapper()"
   ]
  },
  {
   "cell_type": "code",
   "execution_count": 5,
   "metadata": {},
   "outputs": [
    {
     "name": "stdout",
     "output_type": "stream",
     "text": [
      "<class 'pandas.core.frame.DataFrame'>\n",
      "Index: 26753 entries, 5 to 4530184\n",
      "Data columns (total 1 columns):\n",
      " #   Column  Non-Null Count  Dtype \n",
      "---  ------  --------------  ----- \n",
      " 0   poster  26753 non-null  object\n",
      "dtypes: object(1)\n",
      "memory usage: 418.0+ KB\n"
     ]
    }
   ],
   "source": [
    "df_poster = df.dropna(subset=['poster'])[['poster']]\n",
    "df_poster.info()"
   ]
  },
  {
   "cell_type": "code",
   "execution_count": 6,
   "metadata": {},
   "outputs": [],
   "source": [
    "np.save(f'{ASSETS_DIR}/poster_ids.npy', df_poster.index.to_numpy())"
   ]
  },
  {
   "cell_type": "code",
   "execution_count": 7,
   "metadata": {},
   "outputs": [],
   "source": [
    "posters = df_poster['poster'].apply(image_data_to_tensor).to_list()"
   ]
  },
  {
   "cell_type": "code",
   "execution_count": 12,
   "metadata": {},
   "outputs": [],
   "source": [
    "batch_size = 1000\n",
    "mobilenet_embeddings = []\n",
    "\n",
    "with torch.inference_mode():\n",
    "    for i in range(0, len(posters), batch_size):\n",
    "        batch = torch.cat([p.unsqueeze(0) for p in posters[i:i + batch_size]]).to('mps')\n",
    "        mobilenet_embeddings.append(mobilenet._mobilenet(batch))\n",
    "        gc.collect()\n",
    "        torch.mps.empty_cache()\n",
    "\n",
    "mobilenet_embeddings = torch.cat(mobilenet_embeddings)\n",
    "mobilenet_embeddings.shape"
   ]
  },
  {
   "cell_type": "code",
   "execution_count": 17,
   "metadata": {},
   "outputs": [],
   "source": [
    "safetensors.torch.save_file(\n",
    "    {'embedding': mobilenet_embeddings},\n",
    "    f'{ASSETS_DIR}/embeddings_mobilenet.safetensors'\n",
    ")"
   ]
  },
  {
   "cell_type": "markdown",
   "metadata": {},
   "source": [
    "## CountVectorizer"
   ]
  },
  {
   "cell_type": "code",
   "execution_count": 4,
   "metadata": {},
   "outputs": [
    {
     "name": "stdout",
     "output_type": "stream",
     "text": [
      "<class 'pandas.core.frame.DataFrame'>\n",
      "Index: 44491 entries, 1 to 7158814\n",
      "Data columns (total 1 columns):\n",
      " #   Column  Non-Null Count  Dtype \n",
      "---  ------  --------------  ----- \n",
      " 0   plot    44491 non-null  object\n",
      "dtypes: object(1)\n",
      "memory usage: 695.2+ KB\n"
     ]
    }
   ],
   "source": [
    "df_plot = df.dropna(subset=['plot'])[['plot']]\n",
    "df_plot.info()"
   ]
  },
  {
   "cell_type": "code",
   "execution_count": 5,
   "metadata": {},
   "outputs": [],
   "source": [
    "np.save(f'{ASSETS_DIR}/plot_ids.npy', df_plot.index.to_numpy())"
   ]
  },
  {
   "cell_type": "code",
   "execution_count": 6,
   "metadata": {},
   "outputs": [],
   "source": [
    "plots = df_plot['plot'].to_list()"
   ]
  },
  {
   "cell_type": "code",
   "execution_count": 7,
   "metadata": {},
   "outputs": [],
   "source": [
    "CountVectorizerWrapper.train()\n",
    "count_vectorizer = CountVectorizerWrapper()"
   ]
  },
  {
   "cell_type": "code",
   "execution_count": 9,
   "metadata": {},
   "outputs": [],
   "source": [
    "count_embeddings = count_vectorizer.get_embedding(plots)"
   ]
  },
  {
   "cell_type": "code",
   "execution_count": 13,
   "metadata": {},
   "outputs": [
    {
     "data": {
      "text/plain": [
       "['../assets/embeddings_count_vectorizer.joblib.gz']"
      ]
     },
     "execution_count": 13,
     "metadata": {},
     "output_type": "execute_result"
    }
   ],
   "source": [
    "joblib.dump(count_embeddings, f'{ASSETS_DIR}/embeddings_count_vectorizer.joblib.gz')"
   ]
  },
  {
   "cell_type": "markdown",
   "metadata": {},
   "source": [
    "## Bert"
   ]
  },
  {
   "cell_type": "code",
   "execution_count": 10,
   "metadata": {},
   "outputs": [],
   "source": [
    "bert = BertWrapper()"
   ]
  },
  {
   "cell_type": "code",
   "execution_count": 18,
   "metadata": {},
   "outputs": [],
   "source": [
    "bert_embeddings = bert.get_embedding(df_plot['plot'].tolist())\n",
    "bert_embeddings = torch.cat([e.unsqueeze(0) for e in bert_embeddings])\n",
    "bert_embeddings.shape"
   ]
  },
  {
   "cell_type": "code",
   "execution_count": null,
   "metadata": {},
   "outputs": [],
   "source": [
    "safetensors.torch.save_file(\n",
    "    {'embedding': bert_embeddings},\n",
    "    f'{ASSETS_DIR}/embeddings_cls_bert.safetensors'\n",
    ")"
   ]
  }
 ],
 "metadata": {
  "kernelspec": {
   "display_name": "dl-env",
   "language": "python",
   "name": "python3"
  },
  "language_info": {
   "codemirror_mode": {
    "name": "ipython",
    "version": 3
   },
   "file_extension": ".py",
   "mimetype": "text/x-python",
   "name": "python",
   "nbconvert_exporter": "python",
   "pygments_lexer": "ipython3",
   "version": "3.11.6"
  }
 },
 "nbformat": 4,
 "nbformat_minor": 2
}
